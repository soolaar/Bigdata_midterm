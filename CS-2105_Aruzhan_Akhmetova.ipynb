{
  "metadata": {
    "kernelspec": {
      "name": "python",
      "display_name": "Python (Pyodide)",
      "language": "python"
    },
    "language_info": {
      "codemirror_mode": {
        "name": "python",
        "version": 3
      },
      "file_extension": ".py",
      "mimetype": "text/x-python",
      "name": "python",
      "nbconvert_exporter": "python",
      "pygments_lexer": "ipython3",
      "version": "3.8"
    }
  },
  "nbformat_minor": 5,
  "nbformat": 4,
  "cells": [
    {
      "cell_type": "markdown",
      "source": "# Big Data in Law Enforcement\n",
      "metadata": {},
      "id": "b4654926-68b9-4c5c-97df-c30f905c8c6e"
    },
    {
      "cell_type": "markdown",
      "source": "## Introduction\n*Big Data in the context of cybersecurity refers to the vast amount of digital information generated and collected through various online activities and systems. It encompasses the analysis of massive datasets to detect security threats, identify vulnerabilities, and enhance overall information security.*",
      "metadata": {},
      "id": "2ee95f7a-66c4-438d-9905-48cdf9748ebd"
    },
    {
      "cell_type": "markdown",
      "source": "*Some of the popular languages that Data Scientists use are:*\n\n1. Python\n2. JavaScript\n3. PHP\n",
      "metadata": {},
      "id": "a6b58cd3-b186-444c-9927-6332cbb32f03"
    },
    {
      "cell_type": "markdown",
      "source": "*Some of the commonly used libraries used by Data Scientists include:*\n\n- Scikit-Learn\n- TensorFlow\n- Matplotlib\n",
      "metadata": {},
      "id": "153dcdb6-c6f7-4d81-8a07-f0f33b84db5d"
    },
    {
      "cell_type": "markdown",
      "source": "| Data Science Tools     |\n|------------------------|\n| Excel                  |\n| Matplotlib             |\n| MongoDB                |\n",
      "metadata": {},
      "id": "4aa30944-48f4-48f1-957d-4087ae0c66e5"
    },
    {
      "cell_type": "markdown",
      "source": "### Below are a few examples of evaluating arithmetic expressions in Python.\n\n\n",
      "metadata": {},
      "id": "5b508c32-9877-4db1-8cdd-bd3c50a96e33"
    },
    {
      "cell_type": "code",
      "source": "# Addition\n123 + 456",
      "metadata": {
        "trusted": true
      },
      "execution_count": 19,
      "outputs": [
        {
          "execution_count": 19,
          "output_type": "execute_result",
          "data": {
            "text/plain": "579"
          },
          "metadata": {}
        }
      ],
      "id": "01ffe346-984f-433a-a5c6-c7c1aa081aed"
    },
    {
      "cell_type": "code",
      "source": "# Subtraction\n456 - 123\n\n",
      "metadata": {
        "trusted": true
      },
      "execution_count": 20,
      "outputs": [
        {
          "execution_count": 20,
          "output_type": "execute_result",
          "data": {
            "text/plain": "333"
          },
          "metadata": {}
        }
      ],
      "id": "0a45e430-da4d-492a-be70-fb4444176715"
    },
    {
      "cell_type": "code",
      "source": "# Division\n2105 * 3\n",
      "metadata": {
        "trusted": true
      },
      "execution_count": 21,
      "outputs": [
        {
          "execution_count": 21,
          "output_type": "execute_result",
          "data": {
            "text/plain": "6315"
          },
          "metadata": {}
        }
      ],
      "id": "fd525880-76c2-4034-9077-7aca7ad6dccf"
    },
    {
      "cell_type": "code",
      "source": "# Multiplication\n2105 // 3",
      "metadata": {
        "trusted": true
      },
      "execution_count": 22,
      "outputs": [
        {
          "execution_count": 22,
          "output_type": "execute_result",
          "data": {
            "text/plain": "701"
          },
          "metadata": {}
        }
      ],
      "id": "40f1aa6c-6e3f-4b81-8fe1-65fe25aac8f6"
    },
    {
      "cell_type": "code",
      "source": "# This is a simple arithmetic expression\n(34 * 12) + 34",
      "metadata": {
        "trusted": true
      },
      "execution_count": 23,
      "outputs": [
        {
          "execution_count": 23,
          "output_type": "execute_result",
          "data": {
            "text/plain": "442"
          },
          "metadata": {}
        }
      ],
      "id": "4fbe0598-d951-4eee-bc9e-b69ba59ec476"
    },
    {
      "cell_type": "code",
      "source": "# This will convert 300 minutes to hours by dividing by 60\n300 // 60\n",
      "metadata": {
        "trusted": true
      },
      "execution_count": 18,
      "outputs": [
        {
          "execution_count": 18,
          "output_type": "execute_result",
          "data": {
            "text/plain": "5"
          },
          "metadata": {}
        }
      ],
      "id": "7b54274a-d9e4-42cd-bf10-673e937858e4"
    },
    {
      "cell_type": "markdown",
      "source": "**Objectives:**\n\n- Explore and understand data for insights.\n- Build models to make future predictions.\n- Identify data patterns and correlations.\n- Present data visually for clarity.",
      "metadata": {},
      "id": "a257f167-8be0-4509-8ddf-12862ae14465"
    },
    {
      "cell_type": "markdown",
      "source": "## Author\nAruzhan Akhmetova \n",
      "metadata": {},
      "id": "845f3fcf-762d-45d1-881a-41efa8b16fd9"
    },
    {
      "cell_type": "code",
      "source": "",
      "metadata": {},
      "execution_count": null,
      "outputs": [],
      "id": "a1d02366-9aa2-4cf0-8513-ddbe6810bf53"
    }
  ]
}